{
 "cells": [
  {
   "cell_type": "code",
   "execution_count": 7,
   "metadata": {},
   "outputs": [],
   "source": [
    "import libs.MEVeS as S\n",
    "import libs.AtomicConstants.Atom as A\n",
    "import numpy as np\n",
    "import libs.Optimiser as Opt\n",
    "import pickle"
   ]
  },
  {
   "cell_type": "code",
   "execution_count": 5,
   "metadata": {},
   "outputs": [],
   "source": [
    "### Make atom class\n",
    "config = {\"Hyperfine splitting\": False, \"states\": {\"initial\": {\"F\": 4}, \"intermediate\": {\"n\": 6, \"J\": 3/2}, \n",
    "                                                    \"storage\": {\"n\": 6, \"L\":0, \"F\" : 3}}}\n",
    "atom = A.Cs(config)\n",
    "\n",
    "T = 0 # temperature of the ensemble in K\n",
    "vno = 1 # number of velocity classes to simulate.\n",
    "L = 0.075 # length of the cell in m\n",
    "\n",
    "OD = 5000\n",
    "\n",
    "n = 50 # number of space steps. Note these are not evenly spaced.\n",
    "\n",
    "Sinits = np.zeros((n, len(atom.Fg), len(atom.mg), len(atom.Fq), len(atom.mq), vno)) # initial spin wave\n",
    "\n",
    "### Make solver class\n",
    "protocol = 'Raman'\n",
    "tau = 1e-9\n",
    "m = 800\n",
    "detuning = 2*np.pi*2*atom.deltaHF\n",
    "\n",
    "deltaS = detuning #definition of detuning means that signal field and control field should be negative of each other\n",
    "                    #for two photon resonance\n",
    "deltaC = detuning\n",
    "\n",
    "t0 = 3*tau\n",
    "tend = 4*t0\n",
    "tbounds = np.array([0, tend])\n",
    "\n",
    "t = np.linspace(0, tend, m) #this is also defined in solver but in natural units -> tidy up?\n",
    "\n",
    "photon_pol = np.array([1, 0]) #should be normalised\n",
    "Einits = np.array(S.photon_gaussian(t, t0, tau))[:, None] * photon_pol[None, :] \n",
    "\n",
    "control_pol = np.array([1, 0]) #should be normalised\n",
    "\n",
    "sol = S.solver(atom, protocol, Einits, Sinits, [deltaS, deltaC], OD, L, n, m, tbounds, T, vno)"
   ]
  },
  {
   "cell_type": "code",
   "execution_count": 6,
   "metadata": {},
   "outputs": [
    {
     "data": {
      "application/vnd.jupyter.widget-view+json": {
       "model_id": "8b77139198ac43ca89a4dce22c035d81",
       "version_major": 2,
       "version_minor": 0
      },
      "text/plain": [
       "VBox(children=(FigureWidget({\n",
       "    'data': [{'mode': 'lines+markers',\n",
       "              'name': 'Storage Efficiency…"
      ]
     },
     "metadata": {},
     "output_type": "display_data"
    },
    {
     "name": "stdout",
     "output_type": "stream",
     "text": [
      "OD=5000, total_eff=0.49143865360015593\n",
      "\n",
      "Max amps: readin=17931159537.23722, readout=22413174244.471127\n",
      "\n",
      "Total energy: readin=4.084309064652902e-09, readout=6.078605439157485e-09\n",
      "\n"
     ]
    }
   ],
   "source": [
    "### Make optimiser class\n",
    "Control_init1 = S.gaussian(t, t0, tau, 1e10)[:, None] * control_pol[None, :]\n",
    "Control_init2 = S.gaussian(t, t0, tau, 1e10)[:, None] * control_pol[None, :]\n",
    "Control_inits = [Control_init1, Control_init2]\n",
    "step_size = 300\n",
    "\n",
    "opt = Opt.optimiser(sol, method='RK4-Ralston', _complex=True, verbose=False, live_plot=True, save_to_file=True)\n",
    "opt.max_points = 10\n",
    "tol = 1e-6\n",
    "opt.beta1 = 0.9\n",
    "\n",
    "eff, Control_opts, count = opt.Krotov_momentum(opt.forward_retrieval_opt_all, Control_inits, step_size, tol,\n",
    "                                    adaptive_step_size=True)\n",
    "print(f\"OD={OD}, total_eff={eff}\\n\")\n",
    "print(f\"Max amps: readin={np.max(np.abs(Control_opts[0][:, 0]))}, readout={np.max(np.abs(Control_opts[1][:, 0]))}\\n\")\n",
    "print(f\"Total energy: readin={atom.control_pulse_to_energy(np.abs(Control_opts[0][:, 0]), t, r=250e-6, index=1)}, readout={atom.control_pulse_to_energy(np.abs(Control_opts[1][:, 0]), t, r=250e-6, index=1)}\\n\")"
   ]
  },
  {
   "cell_type": "code",
   "execution_count": 9,
   "metadata": {},
   "outputs": [],
   "source": [
    "# Unpickling the object\n",
    "with open('2024-06-16_12-29-58.pkl', 'rb') as file:\n",
    "    loaded_sol = pickle.load(file)"
   ]
  },
  {
   "cell_type": "code",
   "execution_count": 19,
   "metadata": {},
   "outputs": [
    {
     "data": {
      "text/plain": [
       "Cs_6s1q2F[0]_6p3q2_6s1q2F[0]_HyperfineSplittingNo"
      ]
     },
     "execution_count": 19,
     "metadata": {},
     "output_type": "execute_result"
    }
   ],
   "source": [
    "loaded_sol.atom"
   ]
  },
  {
   "cell_type": "code",
   "execution_count": 15,
   "metadata": {},
   "outputs": [],
   "source": [
    "with np.load('2024-06-16_12-29-58.npz') as data:\n",
    "    Controls_opt = data['Control_best']\n",
    "    Controls_inits = data['Control_init']"
   ]
  },
  {
   "cell_type": "code",
   "execution_count": 16,
   "metadata": {},
   "outputs": [
    {
     "name": "stdout",
     "output_type": "stream",
     "text": [
      "Storage efficiency =  71.14 %\n"
     ]
    }
   ],
   "source": [
    "Control_tzp = loaded_sol.co_prop( Controls_opt[0] )\n",
    "loaded_sol.solve(Control_tzp, method='RK4-Ralston')\n",
    "storage = loaded_sol.storage_efficiency(loaded_sol.S, -1)\n",
    "print(f\"Storage efficiency = {storage*100: .2f} %\")"
   ]
  }
 ],
 "metadata": {
  "kernelspec": {
   "display_name": "base",
   "language": "python",
   "name": "python3"
  },
  "language_info": {
   "codemirror_mode": {
    "name": "ipython",
    "version": 3
   },
   "file_extension": ".py",
   "mimetype": "text/x-python",
   "name": "python",
   "nbconvert_exporter": "python",
   "pygments_lexer": "ipython3",
   "version": "3.7.3"
  }
 },
 "nbformat": 4,
 "nbformat_minor": 2
}
