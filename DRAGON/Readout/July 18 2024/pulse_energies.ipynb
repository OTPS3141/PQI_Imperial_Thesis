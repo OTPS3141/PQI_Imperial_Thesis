{
 "cells": [
  {
   "cell_type": "code",
   "execution_count": 2,
   "metadata": {},
   "outputs": [],
   "source": [
    "import numpy as np"
   ]
  },
  {
   "cell_type": "code",
   "execution_count": 17,
   "metadata": {},
   "outputs": [],
   "source": [
    "separation_list = np.array([25, 50, 75, 100, 125, 150, 175, 200]) # in ns\n",
    "\n",
    "power_w_pulse_1 = np.array([18.3, 17.8, 16.5, 15.6, 14.9, 15.1, 14.3, 14.4]) # in mW\n",
    "power_w_pulse_2 = np.array([22.5, 21.1, 20.2, 19.5, 18.9, 18.5, 18.1, 17.6])\n",
    "\n",
    "power_wo_pulse_1 = 9.8 # in mW\n",
    "power_wo_pulse_2 = 11.6"
   ]
  },
  {
   "cell_type": "code",
   "execution_count": 19,
   "metadata": {},
   "outputs": [],
   "source": [
    "def pulse_power(sep, power, power_wo_pulse):\n",
    "    return ((power - power_wo_pulse)*10**(-3) * 2 * (sep*10**(-9)))*10**(12)"
   ]
  },
  {
   "cell_type": "code",
   "execution_count": 20,
   "metadata": {},
   "outputs": [
    {
     "data": {
      "text/plain": [
       "array([ 425.,  800., 1005., 1160., 1275., 1590., 1575., 1840.])"
      ]
     },
     "execution_count": 20,
     "metadata": {},
     "output_type": "execute_result"
    }
   ],
   "source": [
    "pulse_power(separation_list, power_w_pulse_1, power_wo_pulse_1)"
   ]
  },
  {
   "cell_type": "code",
   "execution_count": 21,
   "metadata": {},
   "outputs": [
    {
     "data": {
      "text/plain": [
       "array([ 545.,  950., 1290., 1580., 1825., 2070., 2275., 2400.])"
      ]
     },
     "execution_count": 21,
     "metadata": {},
     "output_type": "execute_result"
    }
   ],
   "source": [
    "pulse_power(separation_list, power_w_pulse_2, power_wo_pulse_2)"
   ]
  }
 ],
 "metadata": {
  "kernelspec": {
   "display_name": "PQI",
   "language": "python",
   "name": "python3"
  },
  "language_info": {
   "codemirror_mode": {
    "name": "ipython",
    "version": 3
   },
   "file_extension": ".py",
   "mimetype": "text/x-python",
   "name": "python",
   "nbconvert_exporter": "python",
   "pygments_lexer": "ipython3",
   "version": "3.11.8"
  }
 },
 "nbformat": 4,
 "nbformat_minor": 2
}
