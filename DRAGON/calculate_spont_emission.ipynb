{
 "cells": [
  {
   "cell_type": "code",
   "execution_count": 2,
   "metadata": {},
   "outputs": [],
   "source": [
    "import numpy as np"
   ]
  },
  {
   "cell_type": "markdown",
   "metadata": {},
   "source": [
    "## Spont. emission rate"
   ]
  },
  {
   "cell_type": "code",
   "execution_count": 11,
   "metadata": {},
   "outputs": [],
   "source": [
    "hbar = 1.0545718e-34 # J s\n",
    "eps_0 = 8.854187817e-12 # F/m\n",
    "e = 1.60217662e-19 # C\n",
    "c = 299792458 # m/s\n",
    "freq = 384.2279e12 # Hz\n",
    "omega = 2*np.pi*freq # rad/s\n",
    "red_dipole = 3.584e-29 # C m"
   ]
  },
  {
   "cell_type": "code",
   "execution_count": 7,
   "metadata": {},
   "outputs": [
    {
     "data": {
      "text/plain": [
       "2414.1750958884672"
      ]
     },
     "execution_count": 7,
     "metadata": {},
     "output_type": "execute_result"
    }
   ],
   "source": [
    "omega*1e-12"
   ]
  },
  {
   "cell_type": "code",
   "execution_count": 12,
   "metadata": {},
   "outputs": [
    {
     "name": "stdout",
     "output_type": "stream",
     "text": [
      "Spont. emission rate: 7.6223e+07 Hz\n"
     ]
    }
   ],
   "source": [
    "Gamma = (omega**3 * red_dipole**2) / (3*np.pi*eps_0*hbar*c**3)\n",
    "print(f'Spont. emission rate: {Gamma:.4e} Hz')"
   ]
  },
  {
   "cell_type": "markdown",
   "metadata": {},
   "source": [
    "## Exp. decay excited state"
   ]
  },
  {
   "cell_type": "code",
   "execution_count": 14,
   "metadata": {},
   "outputs": [],
   "source": [
    "t_rad = 15e-9 # s\n",
    "Gamma_exp = 3.81e7 # Hz"
   ]
  },
  {
   "cell_type": "code",
   "execution_count": 15,
   "metadata": {},
   "outputs": [
    {
     "name": "stdout",
     "output_type": "stream",
     "text": [
      "Prob. of emitting: 0.5647\n"
     ]
    }
   ],
   "source": [
    "P = np.exp(-Gamma_exp*t_rad)\n",
    "print(f'Prob. of emitting: {P:.4f}')"
   ]
  },
  {
   "cell_type": "markdown",
   "metadata": {},
   "source": [
    "## Solid angle element"
   ]
  },
  {
   "cell_type": "code",
   "execution_count": 17,
   "metadata": {},
   "outputs": [
    {
     "name": "stdout",
     "output_type": "stream",
     "text": [
      "Coupling ratio: 0.00000199\n"
     ]
    }
   ],
   "source": [
    "surface = 4*np.pi*(0.4)**2 # m^2\n",
    "coupler = (0.002)**2 # m^2\n",
    "\n",
    "ratio = coupler/surface\n",
    "print(f'Coupling ratio: {ratio:.8f}')"
   ]
  }
 ],
 "metadata": {
  "kernelspec": {
   "display_name": "PQI",
   "language": "python",
   "name": "python3"
  },
  "language_info": {
   "codemirror_mode": {
    "name": "ipython",
    "version": 3
   },
   "file_extension": ".py",
   "mimetype": "text/x-python",
   "name": "python",
   "nbconvert_exporter": "python",
   "pygments_lexer": "ipython3",
   "version": "3.11.8"
  }
 },
 "nbformat": 4,
 "nbformat_minor": 2
}
