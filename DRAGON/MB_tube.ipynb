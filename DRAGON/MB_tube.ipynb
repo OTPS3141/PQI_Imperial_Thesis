{
 "cells": [
  {
   "cell_type": "code",
   "execution_count": 698,
   "metadata": {},
   "outputs": [],
   "source": [
    "import numpy as np\n",
    "from scipy.spatial.distance import pdist, squareform\n",
    "import matplotlib.pyplot as plt\n",
    "import matplotlib.patches as patches\n",
    "import matplotlib.path as path\n",
    "from matplotlib.animation import FuncAnimation\n",
    "import math\n",
    "import random\n",
    "from tqdm import tqdm"
   ]
  },
  {
   "cell_type": "code",
   "execution_count": 699,
   "metadata": {},
   "outputs": [],
   "source": [
    "class MBSimulation:\n",
    "\n",
    "    def __init__(self, x, v, r, m, R, ballistic):\n",
    "        '''\n",
    "        x: initial position of particles\n",
    "        \n",
    "        v: initial velocity of particles\n",
    "\n",
    "        r: radius of particles\n",
    "\n",
    "        m: mass of particles\n",
    "\n",
    "        nsteps: number of steps taken in the simulation\n",
    "\n",
    "        R: radius of the circular tube\n",
    "        '''\n",
    "        \n",
    "        self.x = np.asarray(x, dtype=float)\n",
    "        self.v = np.asarray(v, dtype=float)\n",
    "        self.exposure_time = np.zeros(self.x.shape[0])\n",
    "        self.in_beam = np.zeros(self.x.shape[0])\n",
    "        self.n = self.x.shape[0]\n",
    "        self.r = r  # radius of particles\n",
    "        self.m = m  # mass of particles\n",
    "        self.nsteps = 0\n",
    "        self.R = R  # radius of the circular tube\n",
    "        self.ballistic = ballistic\n",
    "        self.num_collisions = 0\n",
    "\n",
    "\n",
    "        for i in range(self.n):\n",
    "            if np.linalg.norm(self.x[i]) <= self.R:\n",
    "                self.in_beam[i] = 1\n",
    "    \n",
    "        \n",
    "\n",
    "    def advance(self, dt):\n",
    "        # Propagate the particles through time\n",
    "        self.nsteps += 1\n",
    "        self.x += self.v * dt\n",
    "\n",
    "        # Keep track of exposure\n",
    "        for i in range(self.n):\n",
    "            if np.linalg.norm(self.x[i]) <= self.R:\n",
    "                self.exposure_time[i] += 1\n",
    "                self.in_beam[i] = 1\n",
    "            else:\n",
    "                self.in_beam[i] = 0\n",
    "                \n",
    "\n",
    "        # Get the indices of colliding particles\n",
    "        dist = squareform(pdist(self.x))\n",
    "        i_coll, j_coll = np.where(dist < 2 * self.r)\n",
    "        k = np.where(i_coll < j_coll)\n",
    "        i_coll, j_coll = i_coll[k], j_coll[k]\n",
    "        self.num_collisions += len(i_coll)\n",
    "\n",
    "        if self.ballistic == False:\n",
    "            # Update the velocities of colliding particles\n",
    "            for i, j in zip(i_coll, i_coll):\n",
    "                pos_i, vel_i = self.x[i], self.v[i]\n",
    "                pos_j, vel_j =  self.x[j], self.v[j]\n",
    "            \n",
    "                rel_pos, rel_vel = pos_i - pos_j, vel_i - vel_j\n",
    "                r_rel = np.dot(rel_pos, rel_pos)\n",
    "                v_rel = np.dot(rel_vel, rel_pos)\n",
    "                v_rel = 2 * rel_pos * v_rel / r_rel - rel_vel\n",
    "                v_cm = (vel_i + vel_j) / 2\n",
    "                self.v[i] = v_cm - v_rel/2\n",
    "                self.v[j] = v_cm + v_rel/2\n",
    "\n",
    "        # # Bounce particles off circular tube\n",
    "        # for i in range(self.n):\n",
    "        #     dist_from_origin = np.linalg.norm(self.x[i])\n",
    "        #     if dist_from_origin + self.r > self.R:\n",
    "        #         normal = self.x[i] / dist_from_origin\n",
    "        #         self.v[i] -= 2 * (self.v[i] @ normal) * normal\n",
    "\n"
   ]
  },
  {
   "cell_type": "code",
   "execution_count": 700,
   "metadata": {},
   "outputs": [],
   "source": [
    "def MaxwellBoltzmann(v, m, T):\n",
    "    # Maxwell-Boltzmann distribution\n",
    "    return np.sqrt(m / (2 * np.pi * T)) ** 3 * 4 * np.pi * v ** 2 * np.exp(-m * v ** 2 / (2 * T))\n",
    "\n",
    "k_Boltzmann = 1.38064852e-23 # Boltzmann constant\n",
    "\n",
    "def get_mean_velocity(m, T):\n",
    "    # Mean velocity of particles\n",
    "    return np.sqrt(8 * k_Boltzmann * T / (np.pi * m))"
   ]
  },
  {
   "cell_type": "code",
   "execution_count": 701,
   "metadata": {},
   "outputs": [],
   "source": [
    "def init_pos_vel(R, v_bar, n):\n",
    "\n",
    "    # Generate n random positions within the beam profile.\n",
    "    x_list_in = []\n",
    "    y_list_in = []\n",
    "\n",
    "    x_list_out = []\n",
    "    y_list_out = []\n",
    "\n",
    "    R_around = 2 * R\n",
    "    for i in range(n):\n",
    "        # random angle\n",
    "        alpha = 2 * math.pi * random.random()\n",
    "        # random radius\n",
    "        rand_R = R_around * math.sqrt(random.random())\n",
    "        # calculating coordinates\n",
    "        x = rand_R * math.cos(alpha)\n",
    "        y = rand_R * math.sin(alpha)\n",
    "\n",
    "        if np.linalg.norm([x, y]) > R:\n",
    "            x_list_out.append(x)\n",
    "            y_list_out.append(y)\n",
    "\n",
    "        else:\n",
    "            x_list_in.append(x)\n",
    "            y_list_in.append(y)\n",
    "\n",
    "    pos_in = np.array([x_list_in, y_list_in]).T\n",
    "    pos_out = np.array([x_list_out, y_list_out]).T\n",
    "\n",
    "\n",
    "\n",
    "\n",
    "    # Initialize the particles velocities with random orientations and random\n",
    "    # magnitudes  around the mean speed, sbar.\n",
    "    theta_in = np.random.random(len(x_list_in)) * 2 * np.pi\n",
    "    theta_out = np.random.random(len(x_list_out)) * 2 * np.pi\n",
    "    s0_in = v_bar * np.random.random(len(x_list_in))\n",
    "    s0_out = v_bar * np.random.random(len(x_list_out))\n",
    "\n",
    "    vel_in = (s0_in * np.array((np.cos(theta_in), np.sin(theta_in)))).T\n",
    "    vel_out = (s0_out * np.array((np.cos(theta_out), np.sin(theta_out)))).T\n",
    "\n",
    "    return pos_in, vel_in, pos_out, vel_out\n"
   ]
  },
  {
   "cell_type": "code",
   "execution_count": 702,
   "metadata": {},
   "outputs": [],
   "source": [
    "def get_ensemble_fraction_in_beam(sim_in, sim_out, Time, dt):\n",
    "    \n",
    "    avg_exposure_beam_in_list = []\n",
    "    print(\"Simulating the particles inside the beam\")\n",
    "    for i in tqdm(range(int(Time / dt))):\n",
    "        avg_exp_in = np.mean(sim_in.exposure_time[np.where(sim_in.in_beam == 1)])\n",
    "        avg_exposure_beam_in_list.append(avg_exp_in)\n",
    "        sim_in.advance(dt)\n",
    "        \n",
    "    # Get the fraction of atoms inside the circular tube\n",
    "    dist_in = np.linalg.norm(sim_in.x, axis=1)\n",
    "    sum_in = np.sum(dist_in < sim_in.R)\n",
    "\n",
    "    avg_exposure_beam_out_list = []\n",
    "    print(\"Simulating the particles outside the beam\")\n",
    "    for i in tqdm(range(int(Time / dt))):\n",
    "        avg_exp_out = np.mean(sim_out.exposure_time[np.where(sim_out.in_beam == 1)])\n",
    "        if math.isnan(avg_exp_out):\n",
    "            avg_exp_out = 0\n",
    "        avg_exposure_beam_out_list.append(avg_exp_out)\n",
    "        sim_out.advance(dt)\n",
    "    \n",
    "    dist_out = np.linalg.norm(sim_out.x, axis=1)\n",
    "    sum_out = np.sum(dist_out < sim_out.R)\n",
    "    \n",
    "\n",
    "    fraction_pumped_atoms = sum_in / (sum_in + sum_out)\n",
    "\n",
    "    number_density_F1 = sum_in / (sum_in + sum_out) * 3/8\n",
    "    \n",
    "    return fraction_pumped_atoms, number_density_F1, avg_exposure_beam_in_list, avg_exposure_beam_out_list"
   ]
  },
  {
   "cell_type": "markdown",
   "metadata": {},
   "source": [
    "### Init params and instantiate simulation"
   ]
  },
  {
   "cell_type": "code",
   "execution_count": 703,
   "metadata": {},
   "outputs": [
    {
     "name": "stdout",
     "output_type": "stream",
     "text": [
      "Mean velocity at T = 300 K: 271.0 m/s\n"
     ]
    }
   ],
   "source": [
    "# Parameters\n",
    "\n",
    "# Number of particles.\n",
    "n = 1000\n",
    "\n",
    "T = 300  # K\n",
    "m = 1.44e-25  # kg Rb-87\n",
    "v_bar = get_mean_velocity(m, T)\n",
    "print(f\"Mean velocity at T = {T} K: {np.round(v_bar)} m/s\")\n",
    "\n",
    "# Time evolution step\n",
    "dt = 1e-9\n",
    "\n",
    "# Time necessary for pumping\n",
    "Time = 500e-9\n",
    "\n",
    "# Radius of beam\n",
    "R = 100e-6\n",
    "\n",
    "# Radius of the particles\n",
    "r = 20e-8\n",
    "\n",
    "# Initialize the particles\n",
    "pos_in, vel_in, pos_out, vel_out = init_pos_vel(R, v_bar, n)\n",
    "\n",
    "# Initialize the simulation\n",
    "sim_in = MBSimulation(pos_in, vel_in, r, m, R, True)\n",
    "sim_out = MBSimulation(pos_out, vel_out, r, m, R, True)\n"
   ]
  },
  {
   "cell_type": "markdown",
   "metadata": {},
   "source": [
    "### Plot circle with particles"
   ]
  },
  {
   "cell_type": "code",
   "execution_count": 704,
   "metadata": {},
   "outputs": [],
   "source": [
    "# # Plot positions in a circle\n",
    "# plt.scatter(sim_in.x[:, 0], sim_in.x[:, 1])\n",
    "# plt.scatter(sim_out.x[:, 0], sim_out.x[:, 1])\n",
    "# circle = plt.Circle((0, 0), R, color='r', fill=False)\n",
    "# plt.gca().add_patch(circle)\n",
    "# plt.axis('equal')\n",
    "# plt.xlabel('X')\n",
    "# plt.ylabel('Y')\n",
    "# plt.title('Particle Positions')\n",
    "# plt.show()\n",
    "\n",
    "\n",
    "# # Advance\n",
    "\n",
    "# print(sim_in.exposure_time[np.where(sim_in.in_beam == 1)])\n",
    "# print(sim_out.exposure_time[np.where(sim_out.in_beam == 1)])\n",
    "# sim_in.advance(dt)\n",
    "# sim_out.advance(dt)"
   ]
  },
  {
   "cell_type": "code",
   "execution_count": 705,
   "metadata": {},
   "outputs": [
    {
     "name": "stdout",
     "output_type": "stream",
     "text": [
      "Simulating the particles inside the beam\n"
     ]
    },
    {
     "name": "stderr",
     "output_type": "stream",
     "text": [
      "  0%|          | 0/499 [00:00<?, ?it/s]"
     ]
    },
    {
     "name": "stderr",
     "output_type": "stream",
     "text": [
      "100%|██████████| 499/499 [00:00<00:00, 986.95it/s] \n"
     ]
    },
    {
     "name": "stdout",
     "output_type": "stream",
     "text": [
      "Simulating the particles outside the beam\n"
     ]
    },
    {
     "name": "stderr",
     "output_type": "stream",
     "text": [
      "  0%|          | 0/499 [00:00<?, ?it/s]/home/otps3141/.local/lib/python3.11/site-packages/numpy/core/fromnumeric.py:3432: RuntimeWarning: Mean of empty slice.\n",
      "  return _methods._mean(a, axis=axis, dtype=dtype,\n",
      "/home/otps3141/.local/lib/python3.11/site-packages/numpy/core/_methods.py:190: RuntimeWarning: invalid value encountered in double_scalars\n",
      "  ret = ret.dtype.type(ret / rcount)\n",
      "100%|██████████| 499/499 [00:02<00:00, 192.33it/s]"
     ]
    },
    {
     "name": "stdout",
     "output_type": "stream",
     "text": [
      "Fraction of pumped atoms after time 5e-07 s at temp. 300 K inside the beam: 0.6292\n",
      "Number density of F=1 atoms inside the beam: 0.2359\n"
     ]
    },
    {
     "name": "stderr",
     "output_type": "stream",
     "text": [
      "\n"
     ]
    }
   ],
   "source": [
    "fraction_inside, number_density_F1, exposure_list_in, exposure_list_out = get_ensemble_fraction_in_beam(sim_in, sim_out, Time, dt)\n",
    "print(f\"Fraction of pumped atoms after time {Time} s at temp. {T} K inside the beam: {round(fraction_inside, 4)}\")\n",
    "print(f\"Number density of F=1 atoms inside the beam: {round(number_density_F1, 4)}\")"
   ]
  },
  {
   "cell_type": "code",
   "execution_count": 706,
   "metadata": {},
   "outputs": [
    {
     "data": {
      "image/png": "[encoded data removed]",
      "text/plain": [
       "<Figure size 640x480 with 1 Axes>"
      ]
     },
     "metadata": {},
     "output_type": "display_data"
    }
   ],
   "source": [
    "exp_time_array = np.linspace(0, Time, len(exposure_list_in))\n",
    "\n",
    "avg_exp_total = np.array(exposure_list_in) + np.array(exposure_list_out)\n",
    "\n",
    "plt.plot(exp_time_array*10e8, avg_exp_total, label='Total')\n",
    "plt.xlabel('Time (ns)')\n",
    "plt.ylabel('Average exposure time')\n",
    "plt.legend()\n",
    "plt.title('Average exposure time of particles in beam')\n",
    "plt.show()\n"
   ]
  },
  {
   "cell_type": "code",
   "execution_count": 639,
   "metadata": {},
   "outputs": [
    {
     "name": "stdout",
     "output_type": "stream",
     "text": [
      "Average exposure time of atoms in the beam: 404.8 ns\n",
      "Number density of F=2 atoms: 1.866\n"
     ]
    }
   ],
   "source": [
    "# Get average exposure time of atoms in beam after certain time\n",
    "exposure_beam_in = sim_in.exposure_time[np.where(sim_in.in_beam == 1)]\n",
    "exposure_beam_out = sim_out.exposure_time[np.where(sim_out.in_beam == 1)]\n",
    "exposure_list_total = np.concatenate((exposure_beam_in, exposure_beam_out))\n",
    "t_exp = round(np.mean(exposure_list_total), 1)\n",
    "print(f\"Average exposure time of atoms in the beam: {t_exp} ns\")\n",
    "\n",
    "# Number density F=2 atoms\n",
    "avg_number_density_F2 = 5/8 + t_exp/30 * 0.25 * 1/np.exp(1) \n",
    "print(f\"Number density of F=2 atoms: {round(avg_number_density_F2, 4)}\")"
   ]
  },
  {
   "cell_type": "code",
   "execution_count": null,
   "metadata": {},
   "outputs": [],
   "source": [
    "def get_lifetime(R, frac, r, ballistic):\n",
    "    # Initialize the simulation\n",
    "    pos, vel = init_pos_vel(R)\n",
    "    sim = MBSimulation(pos, vel, r, m, R, ballistic)\n",
    "\n",
    "\n",
    "    gamma_list = []\n",
    "    simulation_time = 10000e-9\n",
    "\n",
    "    # Simulate the particles for a given time.\n",
    "    for i in range(int(simulation_time / dt)):\n",
    "\n",
    "\n",
    "        \n",
    "        dist_from_origin = np.linalg.norm(sim.x, axis=1)\n",
    "        particles_outside = np.where(dist_from_origin > sim.R)\n",
    "        N_outside = len(particles_outside[0])\n",
    "        gamma = N_outside / sim.n\n",
    "\n",
    "        if gamma > frac:\n",
    "            break\n",
    "        \n",
    "        gamma_list.append(gamma)\n",
    "        \n",
    "        \n",
    "        \n",
    "        sim.advance(dt)\n",
    "\n",
    "    # Define lifetime for specific R as the time where frac of the particles are outside the tube\n",
    "    lifetime = i * dt\n",
    "    num_collisions = sim.num_collisions\n",
    "\n",
    "    return lifetime, gamma_list, num_collisions\n"
   ]
  },
  {
   "cell_type": "code",
   "execution_count": null,
   "metadata": {},
   "outputs": [],
   "source": [
    "R_range = np.linspace(200e-6, 500e-6, 20)\n",
    "lifetime_list = []\n",
    "collision_list = []\n",
    "gamma_list = []\n",
    "frac = 1- 1/np.exp(1)\n",
    "r = 2.5e-10\n",
    "\n",
    "for R in tqdm(R_range):\n",
    "    lifetime, gamma, num_collisions = get_lifetime(R, frac, r, True)\n",
    "    lifetime_list.append(lifetime)\n",
    "    collision_list.append(num_collisions)\n",
    "    gamma_list.append(gamma)\n",
    "\n",
    "# Take only non-zero lifetimes\n",
    "lifetime_list = np.array(lifetime_list)\n",
    "R_range = R_range[lifetime_list > 0]\n",
    "lifetime_list = lifetime_list[lifetime_list > 0]"
   ]
  },
  {
   "cell_type": "code",
   "execution_count": null,
   "metadata": {},
   "outputs": [],
   "source": [
    "# Fit linear function to lifetime vs R\n",
    "m, b = np.polyfit(R_range, lifetime_list, 1)\n",
    "print(f\"Linear fit: y = {m:.2e}x + {b:.2e}\")\n",
    "\n",
    "# Plot linear fit\n",
    "\n",
    "# Print lifetime for R = 400 um\n",
    "print(f\"Lifetime for R = 400 um: {lifetime_list[np.where(R_range == 400e-6)[0][0]]:.2e} s\")\n",
    "\n",
    "plt.plot(R_range, lifetime_list)\n",
    "plt.plot(R_range, m * R_range + b)\n",
    "plt.xlabel('R (m)')\n",
    "plt.ylabel('Lifetime (s)')\n",
    "plt.title('Lifetime vs R')\n",
    "plt.show()\n"
   ]
  },
  {
   "cell_type": "code",
   "execution_count": null,
   "metadata": {},
   "outputs": [],
   "source": [
    "np.mean(lifetime_list[np.where((R_range < 420e-6)) and np.where((R_range > 380e-6))[0]])"
   ]
  },
  {
   "cell_type": "code",
   "execution_count": null,
   "metadata": {},
   "outputs": [],
   "source": [
    "np.where((R_range < 420e-6)) and np.where((R_range > 380e-6))"
   ]
  }
 ],
 "metadata": {
  "kernelspec": {
   "display_name": "PQI",
   "language": "python",
   "name": "python3"
  },
  "language_info": {
   "codemirror_mode": {
    "name": "ipython",
    "version": 3
   },
   "file_extension": ".py",
   "mimetype": "text/x-python",
   "name": "python",
   "nbconvert_exporter": "python",
   "pygments_lexer": "ipython3",
   "version": "3.11.8"
  }
 },
 "nbformat": 4,
 "nbformat_minor": 2
}
