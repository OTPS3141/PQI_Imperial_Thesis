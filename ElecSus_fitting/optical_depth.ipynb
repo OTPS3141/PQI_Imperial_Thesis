{
 "cells": [
  {
   "cell_type": "code",
   "execution_count": 11,
   "metadata": {},
   "outputs": [],
   "source": [
    "import numpy as np\n",
    "import matplotlib.pyplot as plt\n",
    "\n",
    "import sys\n",
    "\n",
    "sys.path.insert(0, '/home/otps3141/Documents/Dokumente/ETH QE/Master Thesis Imperial/Thesis/Code/OBEsimulation')\n",
    "\n",
    "import AtomicConstants as AC"
   ]
  },
  {
   "cell_type": "code",
   "execution_count": 12,
   "metadata": {},
   "outputs": [],
   "source": [
    "kB = 1.38e-23\n",
    "hbar = 1.05457182e-34\n",
    "eps0 = 8.8541878128e-12\n",
    "c = 299792458\n",
    " \n",
    "def pV(T):\n",
    "    \"\"\" Vapour pressure of Cs as a function of temperature (K) \"\"\"\n",
    "    # liquid phase, T>25C\n",
    "    return pow(10, -94.04826 - 1961.258/T - 0.03771687*T + 42.575 * np.log10(T))\n",
    " \n",
    "def Nv(T):\n",
    "    \"\"\" Number density as a function of temperature (K) \"\"\"\n",
    "    # convert from torr to Pa\n",
    "    return 133.323*pV(T)/(kB*T)\n",
    " \n",
    "def optical_depth(atom, T, L):\n",
    "    cross_section = pow(atom.reduced_dipoles[0], 2)*atom.angular_frequencies[0]/(atom.decay_rates[0]*eps0*hbar*c)\n",
    "    OD = Nv(T)*L*cross_section\n",
    "    return OD\n",
    " \n",
    "def effective_optical_depth(atom, OD, T):\n",
    "    width = np.sqrt(kB*T/(atom.mass*pow(c, 2)))*atom.angular_frequencies[0]\n",
    "    ODdash = OD*atom.decay_rates[0]/(2*width) * np.sqrt(np.pi*np.log(2))\n",
    "    return ODdash"
   ]
  },
  {
   "cell_type": "code",
   "execution_count": 13,
   "metadata": {},
   "outputs": [],
   "source": [
    "atom87_F1_config = {\"Hyperfine splitting\": True, \"states\": {\"initial\": {\"n\": 5, \"J\": 1/2, \"L\":0, \"F\": 1}, \"intermediate\": {\"n\": 5, \"L\":1, \"J\": 3/2}, \n",
    "                                                        \"storage\": {\"n\" : 4, \"L\": 2, \"J\" : 5/2}}}\n",
    "    \n",
    "\n",
    "atom87_F2_config = {\"Hyperfine splitting\": True, \"states\": {\"initial\": {\"n\": 5, \"J\": 1/2, \"L\":0, \"F\": 2}, \"intermediate\": {\"n\": 5, \"L\":1, \"J\": 3/2}, \n",
    "                                                        \"storage\": {\"n\" : 4, \"L\": 2, \"J\" : 5/2}}}\n",
    "\n",
    "atomF1 = AC.Rb87(atom87_F1_config)\n",
    "atomF2 = AC.Rb87(atom87_F2_config)"
   ]
  },
  {
   "cell_type": "code",
   "execution_count": 14,
   "metadata": {},
   "outputs": [
    {
     "data": {
      "text/plain": [
       "array([3.58387158e-29, 4.60459131e-29])"
      ]
     },
     "execution_count": 14,
     "metadata": {},
     "output_type": "execute_result"
    }
   ],
   "source": [
    "atomF1.reduced_dipoles"
   ]
  },
  {
   "cell_type": "code",
   "execution_count": 15,
   "metadata": {},
   "outputs": [
    {
     "data": {
      "text/plain": [
       "array([3.58387158e-29, 4.60459131e-29])"
      ]
     },
     "execution_count": 15,
     "metadata": {},
     "output_type": "execute_result"
    }
   ],
   "source": [
    "atomF2.reduced_dipoles"
   ]
  },
  {
   "cell_type": "code",
   "execution_count": 20,
   "metadata": {},
   "outputs": [
    {
     "name": "stdout",
     "output_type": "stream",
     "text": [
      "1764.8447092930733\n"
     ]
    }
   ],
   "source": [
    "OD = optical_depth(atomF1, 273+41.3, 0.13)\n",
    "print(OD)"
   ]
  },
  {
   "cell_type": "code",
   "execution_count": 19,
   "metadata": {},
   "outputs": [
    {
     "name": "stdout",
     "output_type": "stream",
     "text": [
      "59.084469830202806\n"
     ]
    }
   ],
   "source": [
    "effective_OD = effective_optical_depth(atomF1, OD, 273+41.3)\n",
    "print(effective_OD)"
   ]
  }
 ],
 "metadata": {
  "kernelspec": {
   "display_name": "PQI",
   "language": "python",
   "name": "python3"
  },
  "language_info": {
   "codemirror_mode": {
    "name": "ipython",
    "version": 3
   },
   "file_extension": ".py",
   "mimetype": "text/x-python",
   "name": "python",
   "nbconvert_exporter": "python",
   "pygments_lexer": "ipython3",
   "version": "3.11.8"
  }
 },
 "nbformat": 4,
 "nbformat_minor": 2
}
