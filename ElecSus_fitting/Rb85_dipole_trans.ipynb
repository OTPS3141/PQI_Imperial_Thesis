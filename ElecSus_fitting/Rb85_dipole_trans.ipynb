{
 "cells": [
  {
   "cell_type": "code",
   "execution_count": 14,
   "metadata": {},
   "outputs": [],
   "source": [
    "import numpy as np\n"
   ]
  },
  {
   "cell_type": "markdown",
   "metadata": {},
   "source": [
    "## Transition matrix elements for Rb 85 D2, sig_+\n"
   ]
  },
  {
   "cell_type": "markdown",
   "metadata": {},
   "source": [
    "### F = 2"
   ]
  },
  {
   "cell_type": "code",
   "execution_count": 15,
   "metadata": {},
   "outputs": [],
   "source": [
    "T_F2_F3 = np.sqrt(2/135) + np.sqrt(2/45) + np.sqrt(4/45) + np.sqrt(4/27) + np.sqrt(2/9)\n",
    "T_F2_F2 = np.sqrt(7/54) + np.sqrt(7/36) + np.sqrt(7/36) + np.sqrt(7/54)\n",
    "T_F2_F1 = np.sqrt(3/10) + np.sqrt(3/20) + np.sqrt(1/20)\n",
    "\n",
    "sum_F2_sig_plus = T_F2_F3 + T_F2_F2 + T_F2_F1\n"
   ]
  },
  {
   "cell_type": "markdown",
   "metadata": {},
   "source": [
    "### F = 3"
   ]
  },
  {
   "cell_type": "code",
   "execution_count": 16,
   "metadata": {},
   "outputs": [],
   "source": [
    "T_F3_F4 = np.sqrt(1/56) + np.sqrt(3/56) + np.sqrt(3/28) + np.sqrt(5/28) + np.sqrt(15/56) + np.sqrt(3/8) + np.sqrt(1/2)\n",
    "T_F3_F3 = np.sqrt(5/72) + np.sqrt(25/216) + np.sqrt(5/36) + np.sqrt(5/36) + np.sqrt(25/216) + np.sqrt(5/72)\n",
    "T_F3_F2 = np.sqrt(5/63) + np.sqrt(10/189) + np.sqrt(2/63) + np.sqrt(1/63) + np.sqrt(1/189)\n",
    "\n",
    "sum_F3_sig_plus = T_F3_F4 + T_F3_F3 + T_F3_F2"
   ]
  },
  {
   "cell_type": "code",
   "execution_count": 22,
   "metadata": {},
   "outputs": [
    {
     "name": "stdout",
     "output_type": "stream",
     "text": [
      "4.247608825205862\n",
      "5.793475635354782\n",
      "1.3639381293718822\n"
     ]
    }
   ],
   "source": [
    "print(sum_F2_sig_plus)\n",
    "print(sum_F3_sig_plus)\n",
    "print(sum_F3_sig_plus/sum_F2_sig_plus)"
   ]
  },
  {
   "cell_type": "markdown",
   "metadata": {},
   "source": [
    "## Transition matrix elements for Rb 85 D2, pi\n"
   ]
  },
  {
   "cell_type": "markdown",
   "metadata": {},
   "source": [
    "### F = 3"
   ]
  },
  {
   "cell_type": "code",
   "execution_count": 18,
   "metadata": {},
   "outputs": [],
   "source": [
    "T_F3_F4 = -np.sqrt(1/8) - np.sqrt(3/14) - np.sqrt(15/56) - np.sqrt(2/7) - np.sqrt(15/56) - np.sqrt(3/14) - np.sqrt(1/8)\n",
    "T_F3_F3 = -np.sqrt(5/24) - np.sqrt(5/54) - np.sqrt(5/216) - np.sqrt(5/216) - np.sqrt(5/54) - np.sqrt(5/24)\n",
    "T_F3_F2 = -np.sqrt(5/189) - np.sqrt(8/189) - np.sqrt(1/21) - np.sqrt(8/189) - np.sqrt(5/189)"
   ]
  },
  {
   "cell_type": "code",
   "execution_count": 19,
   "metadata": {},
   "outputs": [],
   "source": [
    "sum_F3_pi = T_F3_F4 + T_F3_F3 + T_F3_F2"
   ]
  },
  {
   "cell_type": "markdown",
   "metadata": {},
   "source": [
    "### F = 2"
   ]
  },
  {
   "cell_type": "code",
   "execution_count": 20,
   "metadata": {},
   "outputs": [],
   "source": [
    "T_F2_F3 = -np.sqrt(2/27) - np.sqrt(16/135) - np.sqrt(2/15) - np.sqrt(16/135) - np.sqrt(2/27)\n",
    "T_F2_F3 = -np.sqrt(7/27) - np.sqrt(7/108) - np.sqrt(7/108) - np.sqrt(7/27)\n",
    "T_F2_F1 = -np.sqrt(3/20) - np.sqrt(1/5) - np.sqrt(3/20)"
   ]
  },
  {
   "cell_type": "code",
   "execution_count": 21,
   "metadata": {},
   "outputs": [],
   "source": [
    "sum_F2_pi = T_F2_F3 + T_F2_F3"
   ]
  },
  {
   "cell_type": "code",
   "execution_count": 23,
   "metadata": {},
   "outputs": [
    {
     "name": "stdout",
     "output_type": "stream",
     "text": [
      "-3.0550504633038935\n",
      "-5.983283076599114\n",
      "1.9584891144902643\n"
     ]
    }
   ],
   "source": [
    "print(sum_F2_pi)\n",
    "print(sum_F3_pi)\n",
    "print(sum_F3_pi/sum_F2_pi)"
   ]
  }
 ],
 "metadata": {
  "kernelspec": {
   "display_name": "PQI",
   "language": "python",
   "name": "python3"
  },
  "language_info": {
   "codemirror_mode": {
    "name": "ipython",
    "version": 3
   },
   "file_extension": ".py",
   "mimetype": "text/x-python",
   "name": "python",
   "nbconvert_exporter": "python",
   "pygments_lexer": "ipython3",
   "version": "3.11.8"
  }
 },
 "nbformat": 4,
 "nbformat_minor": 2
}
