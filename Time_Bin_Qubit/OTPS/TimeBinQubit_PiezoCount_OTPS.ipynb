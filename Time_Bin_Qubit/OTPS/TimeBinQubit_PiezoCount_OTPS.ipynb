{
 "cells": [
  {
   "cell_type": "code",
   "execution_count": 308,
   "metadata": {},
   "outputs": [],
   "source": [
    "import os\n",
    "import matplotlib.pyplot as plt\n",
    "import numpy as np\n",
    "\n",
    "import TimeTag\n",
    "import Visibility_OTPS as visnew\n",
    "from tqdm import tqdm\n",
    "from scipy.signal import find_peaks\n",
    "from scipy.fft import fft, ifft\n",
    "from scipy.optimize import curve_fit\n",
    "\n",
    "\n",
    "\n"
   ]
  },
  {
   "cell_type": "markdown",
   "metadata": {},
   "source": [
    "### Data loading"
   ]
  },
  {
   "cell_type": "code",
   "execution_count": 314,
   "metadata": {},
   "outputs": [],
   "source": [
    "ch_det = 2 # Channel for single photon detector\n",
    "ch_AWG = 0 # Channel for AWG trigger\n",
    "ch_piezo = 3 # Channel for piezo trigger\n",
    "\n",
    "t_integration = 5 # Integration time for measurement"
   ]
  },
  {
   "cell_type": "code",
   "execution_count": 315,
   "metadata": {},
   "outputs": [
    {
     "name": "stdout",
     "output_type": "stream",
     "text": [
      "c:\\Users\\LocalAdmin\\Imperial College London\\UQOG Quantum Memories - PH - General\\Python\\ORCA Experiments\\Time Bin Qubit\\OTPS\n",
      "c:\\Users\\LocalAdmin\\Imperial College London\\UQOG Quantum Memories - PH - General\\Data\\2024-03\\2024-03-15_TimeBinQubit\\2024-03-15_143253\n",
      "143253\n"
     ]
    }
   ],
   "source": [
    "filename, timetag = TimeTag.save_timetags(ch_det, ch_AWG, ch_piezo,t_integration)\n",
    "print(timetag)"
   ]
  },
  {
   "cell_type": "code",
   "execution_count": 310,
   "metadata": {},
   "outputs": [],
   "source": [
    "# 3.8 photons per AWG, early amp oscillation, NKT laser\n",
    "\n",
    "# folder = 'c:\\\\Users\\\\LocalAdmin\\\\Imperial College London\\\\UQOG Quantum Memories - PH - General\\\\Data\\\\2024-03\\\\2024-03-14_TimeBinQubit\\\\'\n",
    "# filename = folder + os.sep + '2024-03-14_114008.ttbin'\n",
    "# timetag = 114008"
   ]
  },
  {
   "cell_type": "code",
   "execution_count": 316,
   "metadata": {},
   "outputs": [],
   "source": [
    "# 3.1 photons per AWG, santec on 1550 nm\n",
    "\n",
    "folder = 'c:\\\\Users\\\\LocalAdmin\\\\Imperial College London\\\\UQOG Quantum Memories - PH - General\\\\Data\\\\2024-03\\\\2024-03-15_TimeBinQubit\\\\'\n",
    "filename = folder + os.sep + '2024-03-15_143253.ttbin'\n",
    "timetag = 143253"
   ]
  },
  {
   "cell_type": "code",
   "execution_count": 290,
   "metadata": {},
   "outputs": [],
   "source": [
    "# 5.1 photons per AWG, no oscillation\n",
    "\n",
    "# folder = 'c:\\\\Users\\\\LocalAdmin\\\\Imperial College London\\\\UQOG Quantum Memories - PH - General\\\\Data\\\\2024-03\\\\2024-03-14_TimeBinQubit\\\\'\n",
    "# filename = folder + os.sep + '2024-03-14_100747.ttbin'\n",
    "# timetag = 100747"
   ]
  },
  {
   "cell_type": "code",
   "execution_count": 291,
   "metadata": {},
   "outputs": [],
   "source": [
    "# 2.3 photons per AWG\n",
    "\n",
    "# folder = 'c:\\\\Users\\\\LocalAdmin\\\\Imperial College London\\\\UQOG Quantum Memories - PH - General\\\\Data\\\\2024-03\\\\2024-03-14_TimeBinQubit\\\\'\n",
    "# filename = folder + os.sep + '2024-03-14_100620.ttbin'\n",
    "# timetag = 100620"
   ]
  },
  {
   "cell_type": "code",
   "execution_count": 292,
   "metadata": {},
   "outputs": [],
   "source": [
    "# 4.3 photons per AWG\n",
    "\n",
    "# folder = 'c:\\\\Users\\\\LocalAdmin\\\\Imperial College London\\\\UQOG Quantum Memories - PH - General\\\\Data\\\\2024-03\\\\2024-03-13_TimeBinQubit\\\\'\n",
    "# filename = folder + os.sep + '2024-03-13_164952.ttbin'\n",
    "# timetag = 164952"
   ]
  },
  {
   "cell_type": "code",
   "execution_count": 293,
   "metadata": {},
   "outputs": [],
   "source": [
    "# 2.3 photons per AWG\n",
    "\n",
    "# folder = 'c:\\\\Users\\\\LocalAdmin\\\\Imperial College London\\\\UQOG Quantum Memories - PH - General\\\\Data\\\\2024-03\\\\2024-03-11_TimeBinQubit\\\\'\n",
    "# filename = folder + os.sep + '2024-03-11_105335.ttbin'\n",
    "# timetag = 105335\n"
   ]
  },
  {
   "cell_type": "code",
   "execution_count": 318,
   "metadata": {},
   "outputs": [],
   "source": [
    "channels, timestamps = TimeTag.load_tt_data(filename)"
   ]
  },
  {
   "cell_type": "code",
   "execution_count": 319,
   "metadata": {},
   "outputs": [
    {
     "name": "stdout",
     "output_type": "stream",
     "text": [
      "[2. 2. 2. ... 0. 2. 2.]\n",
      "[1.24469616e+12 1.24469675e+12 1.24469681e+12 ... 6.18857235e+12\n",
      " 6.18857250e+12 6.18857330e+12]\n"
     ]
    }
   ],
   "source": [
    "print(channels)\n",
    "print(timestamps)"
   ]
  },
  {
   "cell_type": "markdown",
   "metadata": {},
   "source": [
    "### Data analysis\n"
   ]
  },
  {
   "cell_type": "code",
   "execution_count": 320,
   "metadata": {},
   "outputs": [
    {
     "name": "stdout",
     "output_type": "stream",
     "text": [
      "Average piezo duration in seconds:  0.010000642313186236\n",
      "Total number of piezos:  495\n",
      "Average AWG duration in seconds:  1.9966853222216433e-06\n",
      "Total number of AWGs:  2476042\n",
      "AWG rep rate =  500830.0451106308\n",
      "Pulse separation =  49.917133055541086\n"
     ]
    }
   ],
   "source": [
    "# Get overviews of the data and set parameters for the analysis\n",
    "\n",
    "times_piezo = timestamps[np.where(channels==ch_piezo)[0]] # timestamps of piezo triggers\n",
    "times_AWG = timestamps[np.where(channels==ch_AWG)[0]] # timestamps of AWG triggers\n",
    "average_piezo_duration = np.mean(np.diff(times_piezo)) # average time between piezo triggers\n",
    "average_AWG_duration = np.mean(np.diff(times_AWG)) # average time between AWG triggers\n",
    "total_num_piezos = len(times_piezo)\n",
    "total_num_AWGs = len(times_AWG)\n",
    "\n",
    "print('Average piezo duration in seconds: ', average_piezo_duration/1e12)\n",
    "print('Total number of piezos: ', total_num_piezos)\n",
    "print('Average AWG duration in seconds: ', average_AWG_duration/1e12)\n",
    "print('Total number of AWGs: ', total_num_AWGs)\n",
    "\n",
    "\n",
    "AWG_rate = 1/(average_AWG_duration*1e-12)\n",
    "print('AWG rep rate = ', AWG_rate)\n",
    "\n",
    "laser_rep = AWG_rate*160\n",
    "pulse_separation = 1/laser_rep * 4 * 10**9\n",
    "print('Pulse separation = ', pulse_separation)\n"
   ]
  },
  {
   "cell_type": "code",
   "execution_count": 321,
   "metadata": {},
   "outputs": [
    {
     "name": "stdout",
     "output_type": "stream",
     "text": [
      "Number of AWG triggers per piezo trigger =  5009\n",
      "Number of unit bins per piezo trigger =  200\n"
     ]
    }
   ],
   "source": [
    "# Define binning parameters\n",
    "\n",
    "binwidth = 100 # histogram bin width in ps\n",
    "n_bins = int(2000000/binwidth)\n",
    "\n",
    "# How many unit bins of duration 25*average_AWG_duration are there between two piezo triggers?\n",
    "\n",
    "num_AWG_per_piezo = len(times_AWG[np.where((times_AWG<=times_piezo[1]) & (times_AWG>=times_piezo[0]))])\n",
    "print('Number of AWG triggers per piezo trigger = ', num_AWG_per_piezo)\n",
    "print('Number of unit bins per piezo trigger = ', int(num_AWG_per_piezo/25))\n"
   ]
  },
  {
   "cell_type": "markdown",
   "metadata": {},
   "source": [
    "### Sequencing and chunking of data"
   ]
  },
  {
   "cell_type": "code",
   "execution_count": 322,
   "metadata": {},
   "outputs": [
    {
     "name": "stderr",
     "output_type": "stream",
     "text": [
      "100%|██████████| 494/494 [00:35<00:00, 13.78it/s]\n"
     ]
    }
   ],
   "source": [
    "# Chunk the data into piezo triggers with timestamps and channels\n",
    "\n",
    "timestamps_piezo_list = []\n",
    "channels_piezo_list = []\n",
    "\n",
    "for i in tqdm(range(len(times_piezo)-1)):\n",
    "    timestamps_piezo_list.append(timestamps[np.where((timestamps<times_piezo[i+1]) & (timestamps>times_piezo[i]))])\n",
    "    channels_piezo_list.append(channels[np.where((timestamps<times_piezo[i+1]) & (timestamps>times_piezo[i]))])\n",
    "\n",
    "# print(len(timestamps_piezo_list))\n",
    "# print(timestamps_piezo_list[0])\n",
    "# print(len(channels_piezo_list))\n",
    "# print(channels_piezo_list[0])\n"
   ]
  },
  {
   "cell_type": "markdown",
   "metadata": {},
   "source": [
    "### Save data"
   ]
  },
  {
   "cell_type": "code",
   "execution_count": 299,
   "metadata": {},
   "outputs": [],
   "source": [
    "# # Save timestamps_piezo_list and channels_piezo_list to file\n",
    "# d = os.getcwd()\n",
    "\n",
    "# # Define the file path\n",
    "# file_path = folder + os.sep + '2024-03-11_105335_piezo_data.npz'\n",
    "\n",
    "# # Save the data to the file\n",
    "# np.savez(file_path, timestamps_piezo_list=timestamps_piezo_list, channels_piezo_list=channels_piezo_list)\n"
   ]
  },
  {
   "cell_type": "code",
   "execution_count": 300,
   "metadata": {},
   "outputs": [],
   "source": [
    "# # Load the data from the file\n",
    "# data = np.load(file_path)\n",
    "\n",
    "# # Extract the timestamps_piezo_list and channels_piezo_list\n",
    "# timestamps_piezo_list = data['timestamps_piezo_list']\n",
    "# channels_piezo_list = data['channels_piezo_list']\n"
   ]
  },
  {
   "cell_type": "markdown",
   "metadata": {},
   "source": [
    "### Mean detection counts per AWG trigger"
   ]
  },
  {
   "cell_type": "code",
   "execution_count": 323,
   "metadata": {},
   "outputs": [
    {
     "name": "stderr",
     "output_type": "stream",
     "text": [
      "100%|██████████| 494/494 [00:08<00:00, 60.03it/s]"
     ]
    },
    {
     "name": "stdout",
     "output_type": "stream",
     "text": [
      "Mean detection rate =  3.1324538461538465\n"
     ]
    },
    {
     "name": "stderr",
     "output_type": "stream",
     "text": [
      "\n"
     ]
    }
   ],
   "source": [
    "mean_det_list = []\n",
    "\n",
    "for i in tqdm(range(len(timestamps_piezo_list))):\n",
    "    total_det = 0\n",
    "    time_bin_piezo_list = visnew.detection_binning(channels_piezo_list[i], timestamps_piezo_list[i], ch_AWG)\n",
    "\n",
    "    for time in time_bin_piezo_list:\n",
    "        total_det += len(time)\n",
    "        mean_det = total_det/len(time_bin_piezo_list*25)\n",
    "    mean_det_list.append(mean_det)\n",
    "\n",
    "print(\"Mean detection rate = \", np.mean(mean_det_list))\n"
   ]
  },
  {
   "cell_type": "markdown",
   "metadata": {},
   "source": [
    "### Functions for interference mmt"
   ]
  },
  {
   "cell_type": "code",
   "execution_count": 302,
   "metadata": {},
   "outputs": [],
   "source": [
    "def get_total_count_piezo(time_bin_list, n_bins, start_bin, end_bin, integration_time, plot=True):\n",
    "    \"\"\"\n",
    "    Function to get total detection events in time_bin_list.\n",
    "    \n",
    "    Parameters:\n",
    "    time_bin_list: list of lists\n",
    "        List of time bins with detections\n",
    "    n_bins: int\n",
    "        Number of bins in the histogram\n",
    "    start_bin: int\n",
    "        Start bin of integration time\n",
    "    end_bin: int\n",
    "        End bin of integration time\n",
    "    integration_time: int\n",
    "        Integration time in ps\n",
    "    plot: bool\n",
    "        If True, plot the histogram\n",
    "    \n",
    "    \n",
    "    Returns:\n",
    "    count_total: array\n",
    "        Array of counts in the histogram\n",
    "\n",
    "    \n",
    "    \n",
    "        \"\"\"\n",
    "    # How many bins of 50us duration are in integration time?\n",
    "    bin_difference_integration_time = int(integration_time/(50*10**6))  \n",
    "\n",
    "    if start_bin > end_bin:\n",
    "        raise ValueError('Start bin must be smaller than end bin')\n",
    "    \n",
    "    if end_bin-start_bin != bin_difference_integration_time:\n",
    "        raise ValueError('Integration time must be correspond to the time span of start and end bin')\n",
    "\n",
    "    # Take all the 50us bins between start_bin and end_bin and concatenate them\n",
    "    concatenated_time_bin = time_bin_list[start_bin]\n",
    "    for i in range(start_bin+1,end_bin):\n",
    "        concatenated_time_bin = np.concatenate((concatenated_time_bin, time_bin_list[i]))\n",
    "\n",
    "    # Collect all tridents\n",
    "    trident_list = []\n",
    "\n",
    "    # concatenated_time_bin now contains all the detections in the integration time\n",
    "    for i in range(bin_difference_integration_time):\n",
    "        clipped_time_bin = concatenated_time_bin[(concatenated_time_bin > pulse_separation*1000*i) & (concatenated_time_bin < pulse_separation*1000*(i+1))]\n",
    "        trident_list.append(clipped_time_bin)\n",
    "\n",
    "    count_list = []\n",
    "    bin_list = []\n",
    "    for i, trident in enumerate(trident_list):\n",
    "        counts, bins = np.histogram(trident, bins=n_bins, range=(int(i*pulse_separation*1000), int((i+1)*pulse_separation*1000)))\n",
    "        count_list.append(counts)\n",
    "        bin_list.append(bins)\n",
    "\n",
    "    count_total = 0\n",
    "    for count in count_list:\n",
    "        count_total += count\n",
    "\n",
    "\n",
    "\n",
    "\n",
    "    if plot:\n",
    "        plt.plot(bin_list[0][:-1], count_total)\n",
    "\n",
    "        plt.xlabel('Time [ps]')\n",
    "        plt.ylabel('Number of detections')\n",
    "\n",
    "        plt.title(f\"Trident peaks for integration time {integration_time/10**9} ms\")\n",
    "\n",
    "\n",
    "    return count_total, bin_list[0]"
   ]
  },
  {
   "cell_type": "code",
   "execution_count": 303,
   "metadata": {},
   "outputs": [],
   "source": [
    "def get_interference_amplitude(count_total, bins, n_bins, integration_time, precision, plot=True, print_res=True):\n",
    "    \"\"\"\n",
    "    Function to calculate the amplitude of the interference pattern in the time bin data.\n",
    "    \n",
    "    Parameters:\n",
    "    time_bin_list: list of lists\n",
    "        List of time bins with detections\n",
    "    n_bins: int\n",
    "        Number of bins in the histogram\n",
    "    start_bin: int\n",
    "        Start bin of integration time\n",
    "    end_bin: int\n",
    "        End bin of integration time\n",
    "    integration_time: int\n",
    "        Integration time in ps\n",
    "    precision: float\n",
    "        Precision of the peak finding algorithm\n",
    "    plot: bool\n",
    "        If True, plot the histogram\n",
    "    print_res: bool\n",
    "        If True, print the results\n",
    "    \n",
    "    Returns:\n",
    "    count_total: array\n",
    "        Array of counts in the histogram\n",
    "    interference_amplitude: float\n",
    "        Amplitude of the interference pattern\n",
    "    \n",
    "    \n",
    "        \"\"\"\n",
    "\n",
    "\n",
    "\n",
    "    peaks, _ = find_peaks(count_total, height=max(count_total)/8, distance=4000)\n",
    "    peaks = peaks.tolist()\n",
    "\n",
    "    # Statement if peaks could not be detected\n",
    "\n",
    "    if len(peaks) != 3:\n",
    "        if len(peaks) == 2:\n",
    "            # print('Warning: Number of peaks is 2')\n",
    "            if peaks[0] > 2000:\n",
    "                # print('Warning: Early peak not found')\n",
    "                peaks.insert(0, 1700)\n",
    "            if peaks[1] < 8000:\n",
    "                # print('Warning: Late peak not found')\n",
    "                peaks.append(11600)\n",
    "            if peaks[0] < 2000 and peaks[1] > 8000:\n",
    "                # print('Warning: Interference peak not found')\n",
    "                peaks.insert(1, 6500)\n",
    "            \n",
    "        if len(peaks) == 1:\n",
    "            # print('Warning: Number of peaks is 1')\n",
    "            if peaks[0] > 2000 and peaks[0] < 8000:\n",
    "                # print('Warning: Only interference peak found')\n",
    "                peaks.insert(0, 1700)\n",
    "                peaks.append(11600)\n",
    "            if peaks[0] < 2000:\n",
    "                # print('Warning: Only early peak found')\n",
    "                peaks.append(6500)\n",
    "                peaks.append(11600)\n",
    "            if peaks[0] > 8000:\n",
    "                # print('Warning: Only late peak found')\n",
    "                peaks.insert(1, 6500)\n",
    "                peaks.insert(0, 1700)\n",
    "\n",
    "        if len(peaks) > 3:\n",
    "            # print('Warning: Number of peaks is more than 3')\n",
    "            peaks = peaks[:3]\n",
    "\n",
    "    # Define regions for integration\n",
    "    early_region = count_total[peaks[0]-int(n_bins*precision):peaks[0]+int(n_bins*precision)]\n",
    "    late_region = count_total[peaks[2]-int(n_bins*precision):peaks[2]+int(n_bins*precision)]\n",
    "    interference_region = count_total[peaks[1]-int(n_bins*precision):peaks[1]+int(n_bins*precision)]\n",
    "    interference_amplitude = np.sum(interference_region)\n",
    "    early_amplitude = np.sum(early_region)\n",
    "    late_amplitude = np.sum(late_region)\n",
    "\n",
    "    # Convert peaks to time\n",
    "    peaks = [bins[0][peaks[0]], bins[0][peaks[1]], bins[0][peaks[2]]]\n",
    "    \n",
    "    if print_res:\n",
    "        print(f'Early peak at {peaks[0]} with amplitude {early_amplitude}')\n",
    "        print(f'Interference peak at {peaks[1]} with amplitude {interference_amplitude}')\n",
    "        print(f'Late peak at {peaks[2]} with amplitude {late_amplitude}')\n",
    "\n",
    "\n",
    "\n",
    "    if plot:\n",
    "        plt.plot(bins[0][:-1], count_total)\n",
    "        \n",
    "        plt.vlines(peaks[0]-int(n_bins*precision), colors='g', ymin=0, ymax=max(count_total))\n",
    "        plt.vlines(peaks[0]+int(n_bins*precision), colors='g', ymin=0, ymax=max(count_total))\n",
    "        plt.vlines(peaks[1]-int(n_bins*precision), colors='r', ymin=0, ymax=max(count_total))\n",
    "        plt.vlines(peaks[1]+int(n_bins*precision), colors='r', ymin=0, ymax=max(count_total))\n",
    "        plt.vlines(peaks[2]-int(n_bins*precision), colors='g', ymin=0, ymax=max(count_total))\n",
    "        plt.vlines(peaks[2]+int(n_bins*precision), colors='g', ymin=0, ymax=max(count_total))\n",
    "\n",
    "        plt.xlabel('Time [ps]')\n",
    "        plt.ylabel('Number of detections')\n",
    "\n",
    "        plt.title(f\"Trident peaks for integration time {integration_time/10**9} ms\")\n",
    "\n",
    "\n",
    "    return interference_amplitude, early_amplitude, late_amplitude"
   ]
  },
  {
   "cell_type": "markdown",
   "metadata": {},
   "source": [
    "### Overlaying piezo chunks and displaying sine fit/visibility"
   ]
  },
  {
   "cell_type": "code",
   "execution_count": 304,
   "metadata": {},
   "outputs": [],
   "source": [
    "def display_oscillations(integration_time, time_window, time_frame, num_frame, timetag, precision, save_img=False, plot=True):\n",
    "\n",
    "    num_windows = int(time_frame/time_window) # Number of time windows\n",
    "    num_piezo_overlays = int(time_window/integration_time) # Number of integration events in one time window\n",
    "    \n",
    "\n",
    "    num_unit_bins = int(integration_time/(50*10**6)) # Number of 50us unit bins in integration time\n",
    "\n",
    "    # Create list of num_windows piezo bins each time_window ms for time_frame\n",
    "\n",
    "    piezo_list = []\n",
    "\n",
    "    # Go through the piezo bins, i.e. the detection events during two piezo triggers, and concatenate 0 and 1, then 2 and 3 etc.\n",
    "    # We pair the piezo bins to get to full time_window fo 20ms (one piezo trigger is 10ms, so two triggers are 20ms)\n",
    "    \n",
    "    for i in range(num_frame*num_windows, num_windows*(num_frame+1)):\n",
    "        temp1 = visnew.detection_binning(channels_piezo_list[2*i], timestamps_piezo_list[2*i], ch_AWG)\n",
    "        temp2 = visnew.detection_binning(channels_piezo_list[2*i+1], timestamps_piezo_list[2*i+1], ch_AWG)\n",
    "        concatenate_temp = np.concatenate((temp1, temp2))\n",
    "        piezo_list.append(concatenate_temp)\n",
    "\n",
    "    # The function detection_binning returns a list of arrays, where each array contains the timestamps of the detection events in a within 50us\n",
    "\n",
    "    count_total_list = []\n",
    "    bin_list = []\n",
    "\n",
    "    # We iterate over num_piezo_overlays, which is essentially the number of datapoints we will have in the 20ms oscillation\n",
    "    for j in range(num_piezo_overlays):\n",
    "        count_total = 0\n",
    "        # A window has duration 20ms. We iterate over the num_windows windows in the time_frame of e.g. 1s. For each integration time we \n",
    "        # overlay the tridents and sum the counts for every window\n",
    "        for i in range(num_windows):\n",
    "            count_total_temp, bin = get_total_count_piezo(piezo_list[i], n_bins, j*num_unit_bins, (j+1)*num_unit_bins, integration_time, plot=False)\n",
    "            count_total += count_total_temp\n",
    "        count_total_list.append(count_total)\n",
    "        bin_list.append(bin)\n",
    "\n",
    "    interference_amplitude_list = []\n",
    "    early_amplitude_list = []\n",
    "    late_amplitude_list = []\n",
    "\n",
    "\n",
    "    for i in range(0, num_piezo_overlays-1):\n",
    "        interference_amplitude, early_amplitude, late_amplitude = get_interference_amplitude(count_total_list[i], bin_list, n_bins, integration_time, precision, plot=False, print_res=False)\n",
    "        interference_amplitude_list.append(interference_amplitude)\n",
    "        early_amplitude_list.append(early_amplitude)\n",
    "        late_amplitude_list.append(late_amplitude)\n",
    "\n",
    "    # Plot time evolution of interference amplitude in ms bins\n",
    "    ms_bin_array = np.arange(0,num_piezo_overlays-1,1)\n",
    "\n",
    "    # ms_bin_array in time units\n",
    "\n",
    "    if plot:\n",
    "        print('Number of windows = ', num_windows)\n",
    "        print('Number of integration events = ', num_piezo_overlays)\n",
    "        print('Number of unit bins = ', num_unit_bins)\n",
    "        print('Number of ms bins, i.e. number of interference mmt = ', num_piezo_overlays)\n",
    "\n",
    "        fig, ax = plt.subplots(3,1,figsize=(10,10), sharex=True)\n",
    "        ax[0].scatter(ms_bin_array, interference_amplitude_list)\n",
    "        ax[0].set_title(f'Interference amplitude with time window {integration_time/10**9} ms')\n",
    "        # ax[0].set_xlim(0,100)\n",
    "        ax[1].scatter(ms_bin_array, early_amplitude_list)\n",
    "        ax[1].set_title(f'Early amplitude with time window {integration_time/10**9} ms')\n",
    "        # ax[1].set_xlim(0,100)\n",
    "        ax[2].scatter(ms_bin_array, late_amplitude_list)\n",
    "        ax[2].set_title(f'Late amplitude with time window {integration_time/10**9} ms')\n",
    "        ax[2].set_xlabel(f'Bin in {integration_time/(10**(12))} seconds')\n",
    "        # ax[2].set_xlim(0,100)\n",
    "\n",
    "        # Save the figure\n",
    "        if save_img:\n",
    "            ms = integration_time/10**9\n",
    "            before_ms, after_ms = str(ms).split('.')\n",
    "\n",
    "            tf = time_frame/10**12\n",
    "            before_tf, after_tf = str(tf).split('.')\n",
    "\n",
    "            plt.savefig(os.getcwd() + os.sep + 'Images' + os.sep + f'raw_oscillations_{before_ms}_{after_ms}ms_tot_{before_tf}_{after_tf}_data_{timetag}.png')\n",
    "\n",
    "    time_array = ms_bin_array*(integration_time/10**9)/10**3 # Time in seconds\n",
    "\n",
    "    return interference_amplitude_list, time_array\n",
    "\n",
    "def fit_sine(interference_amplitude_list, time_array, integration_time, save_img=False):\n",
    "\n",
    "    \n",
    "    # Define the sine function\n",
    "    def sine_func(x, amplitude, frequency, phase, setoff):\n",
    "        return amplitude * np.sin(2 * np.pi * frequency * x + phase) + setoff \n",
    "\n",
    "    # Fit the sine function to the data\n",
    "    x_data = time_array[:len(interference_amplitude_list)]\n",
    "    y_data = interference_amplitude_list\n",
    "\n",
    "\n",
    "\n",
    "    # Initial guess for the parameters\n",
    "    initial_guess = [np.max(interference_amplitude_list), 100, 0, 300]\n",
    "\n",
    "    # Perform the curve fit\n",
    "    params, _ = curve_fit(sine_func, x_data, y_data, p0=initial_guess)\n",
    "\n",
    "    # Extract the fitted parameters\n",
    "    amplitude_fit, frequency_fit, phase_fit, setoff_fit = params\n",
    "\n",
    "    # Print the fitted parameters\n",
    "    print(\"Fitted Amplitude:\", amplitude_fit)\n",
    "    print(\"Fitted Frequency [Hz]:\", frequency_fit)\n",
    "    print(\"Fitted Phase:\", phase_fit)\n",
    "\n",
    "    plt.figure()\n",
    "    plt.plot(x_data, y_data, 'o-', label='data')\n",
    "    plt.plot(x_data, sine_func(x_data, amplitude_fit, frequency_fit, phase_fit, setoff_fit), label='fit')\n",
    "    plt.legend()\n",
    "    plt.xlabel('Time [s]')\n",
    "    plt.ylabel('Interference amplitude [a.u.]')\n",
    "    plt.title(f'Sine fit for integration time {integration_time/10**9} ms')\n",
    "    plt.show()\n",
    "\n",
    "    # Save the figure\n",
    "    if save_img:\n",
    "        ms = integration_time/10**9\n",
    "        before_ms, after_ms = str(ms).split('.')\n",
    "        plt.savefig(os.getcwd() + os.sep + 'Images' + os.sep + f'sine_fit_piezo_{before_ms}_{after_ms}ms.png')\n",
    "\n",
    "    fitted_interference_amplitude = sine_func(x_data, amplitude_fit, frequency_fit, phase_fit, setoff_fit)\n",
    "\n",
    "    return x_data, y_data, frequency_fit, fitted_interference_amplitude\n",
    "\n",
    "def visibility(interference_amplitude_list, time_array):\n",
    "    visibility = (np.max(interference_amplitude_list) - np.min(interference_amplitude_list))/(np.max(interference_amplitude_list) + np.min(interference_amplitude_list))\n",
    "    return visibility\n",
    "\n",
    "def fit_sine_and_visibility(interference_amplitude_list, time_array, integration_time, time_frame, timetag, save_img=False, plot=True):\n",
    "\n",
    "\n",
    "    # Define the sine function\n",
    "    def sine_func(x, amplitude, frequency, phase, setoff):\n",
    "        return amplitude * np.sin(2 * np.pi * frequency * x + phase) + setoff \n",
    "\n",
    "    # Fit the sine function to the data\n",
    "    x_data = time_array[:len(interference_amplitude_list)]\n",
    "    y_data = interference_amplitude_list\n",
    "\n",
    "\n",
    "\n",
    "    # Initial guess for the parameters\n",
    "    initial_guess = [np.max(interference_amplitude_list), 100, 0, np.min(interference_amplitude_list)]\n",
    "\n",
    "    # Perform the curve fit\n",
    "    params, _ = curve_fit(sine_func, x_data, y_data, p0=initial_guess)\n",
    "\n",
    "    # Extract the fitted parameters\n",
    "    amplitude_fit, frequency_fit, phase_fit, setoff_fit = params\n",
    "\n",
    "    if plot:\n",
    "        # Print the fitted parameters\n",
    "        print(\"Fitted Amplitude:\", amplitude_fit)\n",
    "        print(\"Fitted Frequency [Hz]:\", frequency_fit)\n",
    "        print(\"Fitted Phase:\", phase_fit)\n",
    "\n",
    "        plt.plot(x_data, y_data, 'o', label='data')\n",
    "        plt.plot(x_data, sine_func(x_data, amplitude_fit, frequency_fit, phase_fit, setoff_fit), label='fit')\n",
    "        plt.legend()\n",
    "        plt.xlabel('Time [s]')\n",
    "        plt.ylabel('Interference amplitude [a.u.]')\n",
    "        plt.title(f'Sine fit for integration time {integration_time/10**9} ms')\n",
    "\n",
    "        # Save the figure\n",
    "        if save_img:\n",
    "            ms = integration_time/10**9\n",
    "            before_ms, after_ms = str(ms).split('.')\n",
    "\n",
    "            tf = time_frame/10**12\n",
    "            before_tf, after_tf = str(tf).split('.')\n",
    "            plt.savefig(os.getcwd() + os.sep + 'Images' + os.sep + f'sine_fit_piezo_{before_ms}_{after_ms}ms_tot_{before_tf}_{after_tf}_data_{timetag}.png')\n",
    "\n",
    "    fitted_interference_amplitude = sine_func(x_data, amplitude_fit, frequency_fit, phase_fit, setoff_fit)\n",
    "\n",
    "\n",
    "    data_vis = (np.max(interference_amplitude_list) - np.min(interference_amplitude_list))/(np.max(interference_amplitude_list) + np.min(interference_amplitude_list))\n",
    "    fit_vis = (np.max(fitted_interference_amplitude) - np.min(fitted_interference_amplitude))/(np.max(fitted_interference_amplitude) + np.min(fitted_interference_amplitude))\n",
    "\n",
    "    print(f'Data visibility for time window {integration_time/10**9} ms = ', data_vis)\n",
    "    print(f'Fitted visibility for time window {integration_time/10**9} ms = ', fit_vis)\n",
    "\n",
    "    # Get first maximum of fitted sine function\n",
    "    max_index = np.argmax(fitted_interference_amplitude)\n",
    "    max_amp = fitted_interference_amplitude[max_index]\n",
    "\n",
    "    return fitted_interference_amplitude, x_data, y_data, max_index, max_amp\n",
    "\n",
    "   "
   ]
  },
  {
   "cell_type": "code",
   "execution_count": 331,
   "metadata": {},
   "outputs": [
    {
     "name": "stdout",
     "output_type": "stream",
     "text": [
      "Number of windows =  100\n",
      "Number of integration events =  200\n",
      "Number of unit bins =  2\n",
      "Number of ms bins, i.e. number of interference mmt =  200\n"
     ]
    },
    {
     "data": {
      "image/png": "[encoded data removed]",
      "text/plain": [
       "<Figure size 720x720 with 3 Axes>"
      ]
     },
     "metadata": {
      "needs_background": "light"
     },
     "output_type": "display_data"
    }
   ],
   "source": [
    "# Define the parameters for the analysis\n",
    "\n",
    "integration_time = 100000000 # Integration time in ps, detection events for this time will be added\n",
    "time_window = 20000000000 # Time window in ps, time for oscillation\n",
    "time_frame = 2000000000000 # Time frame in ps, total time taken for overlay\n",
    "total_time = t_integration*10**12 # Total time in ps\n",
    "num_frame = 0 # What time window of the whole intergration time do you want to consider?\n",
    "precision = 0.08 # Precision of the peak finding algorithm\n",
    "\n",
    "interference_amplitude_list, time_array = display_oscillations(integration_time, time_window, time_frame, num_frame, timetag, precision, save_img=True, plot=True)\n",
    "\n"
   ]
  },
  {
   "cell_type": "code",
   "execution_count": 327,
   "metadata": {},
   "outputs": [
    {
     "name": "stdout",
     "output_type": "stream",
     "text": [
      "Fitted Amplitude: -7.841903155045826\n",
      "Fitted Frequency [Hz]: 96.34657705147488\n",
      "Fitted Phase: 0.1807656105448721\n",
      "Data visibility for time window 0.1 ms =  0.20234604105571846\n",
      "Fitted visibility for time window 0.1 ms =  0.022661958080022027\n"
     ]
    },
    {
     "data": {
      "image/png": "[encoded data removed]",
      "text/plain": [
       "<Figure size 432x288 with 1 Axes>"
      ]
     },
     "metadata": {
      "needs_background": "light"
     },
     "output_type": "display_data"
    }
   ],
   "source": [
    "fitted_interfernce_amp, x_data, y_data, first_max, max_amp = fit_sine_and_visibility(interference_amplitude_list, time_array, integration_time, time_frame, timetag, save_img=True, plot=True)"
   ]
  },
  {
   "cell_type": "code",
   "execution_count": 84,
   "metadata": {},
   "outputs": [
    {
     "name": "stderr",
     "output_type": "stream",
     "text": [
      "<__array_function__ internals>:5: VisibleDeprecationWarning: Creating an ndarray from ragged nested sequences (which is a list-or-tuple of lists-or-tuples-or ndarrays with different lengths or shapes) is deprecated. If you meant to do this, you must specify 'dtype=object' when creating the ndarray.\n"
     ]
    },
    {
     "name": "stdout",
     "output_type": "stream",
     "text": [
      "Data visibility for time window 0.5 ms =  0.6073977936404932\n",
      "Fitted visibility for time window 0.5 ms =  0.6056223035485937\n",
      "Data visibility for time window 0.5 ms =  0.6058823529411764\n",
      "Fitted visibility for time window 0.5 ms =  0.6037494566718651\n",
      "Data visibility for time window 0.5 ms =  0.7026406429391504\n",
      "Fitted visibility for time window 0.5 ms =  0.7163137573599782\n",
      "Data visibility for time window 0.5 ms =  0.6512010529779533\n",
      "Fitted visibility for time window 0.5 ms =  0.6804421288608674\n"
     ]
    }
   ],
   "source": [
    "first_peak_list = []\n",
    "\n",
    "integration_time = 500000000 # Integration time in ps, detection events for this time will be added\n",
    "time_window = 20000000000 # Time window in ps, time for oscillation\n",
    "time_frame = 1000000000000 # Time frame in ps, total time taken for overlay\n",
    "total_time = t_integration*10**12 # Total time in ps\n",
    "\n",
    "for window in range(int(total_time/time_frame)-1):\n",
    "\n",
    "    interference_amplitude_list, time_array = display_oscillations(integration_time, time_window, time_frame, window, timetag, save_img=True, plot=False)\n",
    "    fitted_interfernce_amp, x_data, y_data, max_index, max_amp = fit_sine_and_visibility(interference_amplitude_list, time_array, integration_time, time_frame, timetag, save_img=True, plot=False)\n",
    "\n",
    "    first_peak_list.append(max_amp)\n",
    "\n"
   ]
  },
  {
   "cell_type": "code",
   "execution_count": 85,
   "metadata": {},
   "outputs": [
    {
     "data": {
      "text/plain": [
       "[<matplotlib.lines.Line2D at 0x24b026c32b0>]"
      ]
     },
     "execution_count": 85,
     "metadata": {},
     "output_type": "execute_result"
    },
    {
     "data": {
      "image/png": "[encoded data removed]",
      "text/plain": [
       "<Figure size 432x288 with 1 Axes>"
      ]
     },
     "metadata": {
      "needs_background": "light"
     },
     "output_type": "display_data"
    }
   ],
   "source": [
    "plt.plot(np.arange(0, int(total_time/time_frame)-1), first_peak_list)"
   ]
  }
 ],
 "metadata": {
  "kernelspec": {
   "display_name": "base",
   "language": "python",
   "name": "python3"
  },
  "language_info": {
   "codemirror_mode": {
    "name": "ipython",
    "version": 3
   },
   "file_extension": ".py",
   "mimetype": "text/x-python",
   "name": "python",
   "nbconvert_exporter": "python",
   "pygments_lexer": "ipython3",
   "version": "3.8.13"
  }
 },
 "nbformat": 4,
 "nbformat_minor": 2
}
